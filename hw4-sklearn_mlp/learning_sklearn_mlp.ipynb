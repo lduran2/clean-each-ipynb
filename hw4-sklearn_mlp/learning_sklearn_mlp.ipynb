{
 "cells": [
  {
   "cell_type": "markdown",

   "metadata": {},
   "source": [
    "**Disclaimer**: All of information and most of the code in this Notebook is taken or derived from https://scikit-learn.org/stable/modules/generated/sklearn.neural_network.MLPClassifier.html#sklearn.neural_network.MLPClassifier"
   ]
  },
  {
   "cell_type": "code",
   "execution_count": null,

   "metadata": {},
   "outputs": [],
   "source": [
    "import numpy as np\n",
    "from sklearn.neural_network import MLPClassifier"
   ]
  },
  {
   "cell_type": "markdown",

   "metadata": {},
   "source": [
    "Libraries for plotting the results"
   ]
  },
  {
   "cell_type": "code",
   "execution_count": null,

   "metadata": {},
   "outputs": [],
   "source": [
    "from matplotlib import pyplot as plt\n",
    "from matplotlib.colors import ListedColormap"
   ]
  },
  {
   "cell_type": "markdown",

   "metadata": {},
   "source": [
    "MLP trains on two arrays: array X of size (n_samples, n_features), which holds the training samples represented as floating point feature vectors; and array y of size (n_samples,), which holds the target values (class labels) for the training samples:"
   ]
  },
  {
   "cell_type": "code",
   "execution_count": null,

   "metadata": {},
   "outputs": [],
   "source": [
    "X = ((0., 0.), (1., 1.))\n",
    "testX = ((2., 2.), (-1., -2.))"
   ]
  },
  {
   "cell_type": "markdown",

   "metadata": {},
   "source": [
    "Further, the model supports [multi-label classification](https://scikit-learn.org/stable/modules/multiclass.html#multiclass) in which a sample can belong to more than one class. "
   ]
  },
  {
   "cell_type": "code",
   "execution_count": null,

   "metadata": {},
   "outputs": [],
   "source": [
    "multipleLabels = False"
   ]
  },
  {
   "cell_type": "code",
   "execution_count": null,

   "metadata": {},
   "outputs": [],
   "source": [
    "if not(multipleLabels):\n",
    "    y = (0, 1)\n",
    "    hidden_layer_sizes = (5, 2)\n",
    "else:\n",
    "    y = ((0, 1), (1, 1))\n",
    "    hidden_layer_sizes = (15,)"
   ]
  },
  {
   "cell_type": "code",
   "execution_count": null,

   "metadata": {},
   "outputs": [
    {
     "data": {
      "text/plain": [
       "MLPClassifier(alpha=1e-05, hidden_layer_sizes=(5, 2), random_state=1,\n",
       "              solver='lbfgs')"
      ]
     },
     "execution_count": null,
     "metadata": {},
     "output_type": "execute_result"
    }
   ],
   "source": [
    "clf = MLPClassifier(solver='lbfgs', alpha=1e-5, \\\n",
    "                    hidden_layer_sizes=hidden_layer_sizes, \\\n",
    "                    random_state=1)\n",
    "clf.fit(X, y)"
   ]
  },
  {
   "cell_type": "markdown",

   "metadata": {},
   "source": [
    "After fitting (training), the model can predict labels for new samples:"
   ]
  },
  {
   "cell_type": "code",
   "execution_count": null,

   "metadata": {
    "scrolled": true
   },
   "outputs": [],
   "source": [
    "test_y = clf.predict(testX)"
   ]
  },
  {
   "cell_type": "markdown",

   "metadata": {},
   "source": [
    "`coefs_` is a list of weight matrices, where weight matrix at index `i` represents the weights between layer `i` and layer `i + 1`. "
   ]
  },
  {
   "cell_type": "code",
   "execution_count": null,

   "metadata": {},
   "outputs": [
    {
     "data": {
      "text/plain": [
       "[array([[-0.14196276, -0.02104562, -0.85522848, -3.51355396, -0.60434709],\n",
       "        [-0.69744683, -0.9347486 , -0.26422217, -3.35199017,  0.06640954]]),\n",
       " array([[ 0.29164405, -0.14147894],\n",
       "        [ 2.39665167, -0.6152434 ],\n",
       "        [-0.51650256,  0.51452834],\n",
       "        [ 4.0186541 , -0.31920293],\n",
       "        [ 0.32903482,  0.64394475]]),\n",
       " array([[-4.53025854],\n",
       "        [-0.86285329]])]"
      ]
     },
     "execution_count": null,
     "metadata": {},
     "output_type": "execute_result"
    }
   ],
   "source": [
    "clf.coefs_"
   ]
  },
  {
   "cell_type": "code",
   "execution_count": null,

   "metadata": {},
   "outputs": [
    {
     "data": {
      "text/plain": [
       "((2, 5), (5, 2), (2, 1))"
      ]
     },
     "execution_count": null,
     "metadata": {},
     "output_type": "execute_result"
    }
   ],
   "source": [
    "tuple([coef.shape for coef in clf.coefs_])"
   ]
  },
  {
   "cell_type": "markdown",

   "metadata": {},
   "source": [
    "Attempting to apply each layer with a ReLU activation function."
   ]
  },
  {
   "cell_type": "code",
   "execution_count": null,

   "metadata": {},
   "outputs": [],
   "source": [
    "def ReLU(x):\n",
    "    return max(0, x)"
   ]
  },
  {
   "cell_type": "code",
   "execution_count": null,

   "metadata": {},
   "outputs": [
    {
     "name": "stdout",
     "output_type": "stream",
     "text": [
      "[array([[0.],\n",
      "       [0.]]), array([[0.],\n",
      "       [0.]])]\n"
     ]
    }
   ],
   "source": [
    "predictions = [X, testX]\n",
    "activate = np.vectorize(ReLU)\n",
    "for idx, prediction in enumerate(predictions):\n",
    "    predictions[idx] = np.array(predictions[idx])\n",
    "    for coef in (clf.coefs_):\n",
    "        #print(predictions[idx])\n",
    "        # apply the activation function\n",
    "        predictions[idx] = activate(predictions[idx])\n",
    "        #print(predictions[idx])\n",
    "        # multiply by the weights\n",
    "        predictions[idx] = np.dot(predictions[idx], coef)\n",
    "        #print(predictions[idx])\n",
    "print(predictions)\n"
   ]
  },
  {
   "cell_type": "code",
   "execution_count": null,

   "metadata": {},
   "outputs": [
    {
     "data": {
      "text/plain": [
       "array([[1.96718015e-004, 9.99803282e-001],\n",
       "       [1.00000000e+000, 4.67017947e-144]])"
      ]
     },
     "execution_count": null,
     "metadata": {},
     "output_type": "execute_result"
    }
   ],
   "source": [
    "clf.predict_proba(testX)"
   ]
  },
  {
   "cell_type": "markdown",

   "metadata": {},
   "source": [
    "## Plotting"
   ]
  },
  {
   "cell_type": "code",
   "execution_count": null,

   "metadata": {
    "scrolled": true
   },
   "outputs": [
    {
     "data": {
      "text/plain": [
       "<Figure size 72x72 with 0 Axes>"
      ]
     },
     "metadata": {},
     "output_type": "display_data"
    }
   ],
   "source": [
    "figure = plt.figure(figsize=(1, 1))"
   ]
  },
  {
   "cell_type": "code",
   "execution_count": null,

   "metadata": {},
   "outputs": [],
   "source": [
    "# just plot the dataset first\n",
    "cm = plt.cm.RdBu\n",
    "cm_bright = ListedColormap([\"#FF0000\", \"#0000FF\"])"
   ]
  },
  {
   "cell_type": "code",
   "execution_count": null,

   "metadata": {},
   "outputs": [],
   "source": [
    "h = 0.02  # step size in the mesh\n",
    "pad = 0.5\n",
    "ixcoords = 0\n",
    "iycoords = 1"
   ]
  },
  {
   "cell_type": "code",
   "execution_count": null,

   "metadata": {},
   "outputs": [],
   "source": [
    "# Prepare the points\n",
    "npX = np.array(X)"
   ]
  },
  {
   "cell_type": "code",
   "execution_count": null,

   "metadata": {},
   "outputs": [],
   "source": [
    "# and testing points\n",
    "np_testX = np.array(testX)\n",
    "npXcat = np.concatenate((npX, np_testX))"
   ]
  },
  {
   "cell_type": "code",
   "execution_count": null,

   "metadata": {},
   "outputs": [],
   "source": [
    "# the limits to the graph and its mesh grid\n",
    "x_min, x_max = npXcat[:, ixcoords].min() - pad, npXcat[:, ixcoords].max() + pad\n",
    "y_min, y_max = npXcat[:, iycoords].min() - pad, npXcat[:, iycoords].max() + pad\n",
    "xx, yy = np.meshgrid(np.arange(x_min, x_max, h), np.arange(y_min, y_max, h))"
   ]
  },
  {
   "cell_type": "code",
   "execution_count": null,

   "metadata": {},
   "outputs": [],
   "source": [
    "# Plot the decision boundary. For that, we will assign a color to each\n",
    "# point in the mesh [x_min, x_max] x [y_min, y_max].\n",
    "if hasattr(clf, \"decision_function\"):\n",
    "    Z = clf.decision_function(np.c_[xx.ravel(), yy.ravel()])\n",
    "else:\n",
    "    Z = clf.predict_proba(np.c_[xx.ravel(), yy.ravel()])[:, 1]\n",
    "\n",
    "# Put the result into a color plot\n",
    "Z = Z.reshape(xx.shape)"
   ]
  },
  {
   "cell_type": "code",
   "execution_count": null,

   "metadata": {},
   "outputs": [
    {
     "name": "stdout",
     "output_type": "stream",
     "text": [
      "[[0. 0.]\n",
      " [1. 1.]]\n",
      "(0, 1)\n",
      "[1 0]\n"
     ]
    },
    {
     "data": {
      "image/png": "[encoded data removed]",
      "text/plain": [
       "<Figure size 432x288 with 1 Axes>"
      ]
     },
     "metadata": {},
     "output_type": "display_data"
    }
   ],
   "source": [
    "ax = plt.subplot(1, 1, 1)\n",
    "ax.contourf(xx, yy, Z, cmap=cm, alpha=0.8)\n",
    "print(npX)\n",
    "print(y)\n",
    "print(test_y)\n",
    "ax.scatter(npX[:, 0], npX[:, 1], c=y, cmap=cm_bright)\n",
    "ax.scatter(np_testX[:, 0], np_testX[:, 1], c=test_y, cmap=cm_bright, alpha=0.6)\n",
    "ax.set_xlim(xx.min(), xx.max())\n",
    "ax.set_ylim(yy.min(), yy.max())\n",
    "ax.set_xticks(())\n",
    "ax.set_yticks(())\n",
    "figure.subplots_adjust(left=0.02, right=0.98)\n",
    "plt.show()"
   ]
  }
 ],
 "metadata": {
  "kernelspec": {
   "display_name": "Python 3",
   "language": "python",
   "name": "python3"
  },
  "language_info": {
   "codemirror_mode": {
    "name": "ipython",
    "version": 3
   },
   "file_extension": ".py",
   "mimetype": "text/x-python",
   "name": "python",
   "nbconvert_exporter": "python",
   "pygments_lexer": "ipython3",
   "version": "3.8.8"
  }
 },
 "nbformat": 4,
 "nbformat_minor": 5
}
