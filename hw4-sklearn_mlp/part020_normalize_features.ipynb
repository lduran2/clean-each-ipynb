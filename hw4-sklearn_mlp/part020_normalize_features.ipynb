{
 "cells": [
  {
   "cell_type": "code",
   "execution_count": null,

   "metadata": {},
   "outputs": [],
   "source": [
    "import numpy as np\n",
    "import part010_splitting_the_data as sd\n",
    "from part010_splitting_the_data import Axis"
   ]
  },
  {
   "cell_type": "markdown",

   "metadata": {},
   "source": [
    "Retrieve the data from sd."
   ]
  },
  {
   "cell_type": "code",
   "execution_count": null,

   "metadata": {},
   "outputs": [],
   "source": [
    "(trainX, train_y, testX, test_y) = sd.main()"
   ]
  },
  {
   "cell_type": "markdown",

   "metadata": {},
   "source": [
    "First we retrieve the column parameters of means and absolute maxima."
   ]
  },
  {
   "cell_type": "code",
   "execution_count": null,

   "metadata": {},
   "outputs": [
    {
     "name": "stdout",
     "output_type": "stream",
     "text": [
      "{'means': array([5.47672012e+02, 3.10334798e+04, 3.66883112e+00, 1.83375558e+00,\n",
      "       8.34361908e-01, 7.39856681e+03, 6.22472995e+00, 3.86359666e+00,\n",
      "       7.73835741e-02, 4.85538246e-01])}\n",
      "{'absmaxa': array([7.46632176e+04, 2.13231023e+07, 7.09305949e+01, 2.54186664e+01,\n",
      "       1.60425851e+01, 1.07416390e+07, 4.68245000e+01, 2.52164073e+01,\n",
      "       1.57149043e+00, 8.82286754e-01])}\n"
     ]
    }
   ],
   "source": [
    "def findFeatureParameters(features):\n",
    "    r'''\n",
    "     Finds the means and absolute maxima of the given feature array.\n",
    "     @syntax (means, absmaxa) = findFeatureParameters(features)\n",
    "     @param unnormal_features : np.ndarray = from which to get\n",
    "         parameters\n",
    "     @return tuple of the means and the absolute maxima\n",
    "     '''\n",
    "    # find the means and center the features\n",
    "    means = features.mean(axis=Axis.COLS.value)\n",
    "    centered = (features - means)\n",
    "    # find the column maximas of the absolute values\n",
    "    absmaxa = np.amax(np.absolute(centered), axis=Axis.COLS.value)\n",
    "    return (means, absmaxa)\n",
    "# def findFeatureParameters(features)\n",
    "\n",
    "# test the means and absolute maxima of `trainX`\n",
    "if __name__ == \"__main__\":\n",
    "    (means, absmaxa) = findFeatureParameters(trainX)\n",
    "    print({'means': means})\n",
    "    print({'absmaxa' : absmaxa})"
   ]
  },
  {
   "cell_type": "markdown",

   "metadata": {},
   "source": [
    "With these parameters, we can normalize the features."
   ]
  },
  {
   "cell_type": "code",
   "execution_count": null,

   "metadata": {},
   "outputs": [
    {
     "name": "stdout",
     "output_type": "stream",
     "text": [
      "{'means': array([ 1.00000000e+00, -1.19944604e-18,  1.16735593e-17,  2.64985076e-17,\n",
      "        2.33387028e-16, -4.95275683e-17,  1.64279375e-18, -2.08396926e-16,\n",
      "       -4.29615490e-16, -1.27845822e-16, -8.83806355e-16])}\n",
      "{'absmaxa': array([0., 1., 1., 1., 1., 1., 1., 1., 1., 1., 1.])}\n"
     ]
    }
   ],
   "source": [
    "def normalizeFeatures(unnormal_features, means, absmaxa):\n",
    "    r'''\n",
    "     Normalizes the given features, centering to `means` and scaling to\n",
    "     `absmaxa`.\n",
    "     @param unnormal_features : np.ndarray = to normalize\n",
    "     @param means : np.ndarray = to which to center features\n",
    "     @param absmaxa : np.ndarray = by which to scale features\n",
    "     @return the given features normalized\n",
    "     '''\n",
    "    # center the data\n",
    "    centered = (unnormal_features - means)\n",
    "    # scale the data\n",
    "    scaled = (centered / absmaxa)\n",
    "    # create a column of 1 padding with as many rows\n",
    "    num_examples = scaled.shape[0]\n",
    "    one_pad = np.ones((num_examples,1))\n",
    "    # 1-pad each row\n",
    "    padded = np.concatenate((one_pad, scaled), axis=Axis.ROWS.value)\n",
    "    return padded\n",
    "# def normalizeFeatures(unnormal_features, means, absmaxa)\n",
    "\n",
    "# test `normalizeFeatures`\n",
    "if __name__ == \"__main__\":\n",
    "    normtrainX = normalizeFeatures(trainX, means, absmaxa)\n",
    "    # the means should be 1 for row 0,\n",
    "    # the means afterwards should be 0 since `normtrainX` is 0-centered\n",
    "    # the maxima should be 0 for row 1 (1 - mean = 1 - 1 = 0)\n",
    "    # the maxima afterwards should be 1 because `normtrainX` scaled to 1\n",
    "    (normmeans, normabsmaxa) = findFeatureParameters(normtrainX)\n",
    "    print({'means' : normmeans})\n",
    "    print({'absmaxa' : normabsmaxa})"
   ]
  },
  {
   "cell_type": "markdown",

   "metadata": {},
   "source": [
    "Now we can normalize features in any dataset including the training and test data."
   ]
  },
  {
   "cell_type": "code",
   "execution_count": null,

   "metadata": {},
   "outputs": [
    {
     "name": "stdout",
     "output_type": "stream",
     "text": [
      "[(10,), (10,), (18304, 11), (18304,), (4580, 10), (4580,)]\n"
     ]
    }
   ],
   "source": [
    "def main():\n",
    "    # continue from sd (part 010)\n",
    "    (unnorm_trainX, train_y, unnorm_testX, test_y) = sd.main()\n",
    "    # find the feature parameters\n",
    "    (means, absmaxa) = findFeatureParameters(unnorm_trainX)\n",
    "    # normalize the training data and testing data\n",
    "    trainX = normalizeFeatures(unnorm_trainX, means, absmaxa)\n",
    "    testX = normalizeFeatures(unnorm_testX, means, absmaxa)\n",
    "    return (means, absmaxa, trainX, train_y, testX, test_y)\n",
    "\n",
    "# if main module, print the shape of each type of data\n",
    "if __name__ == \"__main__\":\n",
    "    # print the shape of each after splitting\n",
    "    print([x.shape for x in main()])"
   ]
  }
 ],
 "metadata": {
  "kernelspec": {
   "display_name": "Python 3",
   "language": "python",
   "name": "python3"
  },
  "language_info": {
   "codemirror_mode": {
    "name": "ipython",
    "version": 3
   },
   "file_extension": ".py",
   "mimetype": "text/x-python",
   "name": "python",
   "nbconvert_exporter": "python",
   "pygments_lexer": "ipython3",
   "version": "3.8.8"
  }
 },
 "nbformat": 4,
 "nbformat_minor": 5
}
