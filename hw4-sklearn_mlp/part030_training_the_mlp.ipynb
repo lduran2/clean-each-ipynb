{
 "cells": [
  {
   "cell_type": "code",
   "execution_count": null,

   "metadata": {},
   "outputs": [],
   "source": [
    "import numpy as np\n",
    "import part020_normalize_features as nf\n",
    "from part010_splitting_the_data import Axis\n",
    "from sklearn.neural_network import MLPClassifier"
   ]
  },
  {
   "cell_type": "markdown",

   "metadata": {},
   "source": [
    "We can now apply the multi-layer perceptron.\n",
    "\n",
    "Retrieve the data from nf."
   ]
  },
  {
   "cell_type": "code",
   "execution_count": null,

   "metadata": {},
   "outputs": [],
   "source": [
    "(means, absmaxa, trainX, train_y, testX, test_y) = nf.main()"
   ]
  },
  {
   "cell_type": "markdown",

   "metadata": {},
   "source": [
    "We will perform the following tests."
   ]
  },
  {
   "cell_type": "code",
   "execution_count": null,

   "metadata": {},
   "outputs": [],
   "source": [
    "# fix the number of iterations\n",
    "MAX_ITER = 3000\n",
    "# cycle through these combinations of hyperparameters\n",
    "test_combinations = [\n",
    "    {\n",
    "        r'hidden_layer_sizes': (50,),\n",
    "        r'solver': [r'adam', r'sgd'],\n",
    "        r'alpha': [1e-1, 1e-2, 1e-3, 1e-4, 1e-5],\n",
    "        r'learning_rate': [r'constant', r'invscaling', r'adaptive'],\n",
    "        r'learning_rate_init': [1e-1, 1e-2, 1e-3, 1e-4]\n",
    "    }\n",
    "]"
   ]
  },
  {
   "cell_type": "code",
   "execution_count": null,

   "metadata": {},
   "outputs": [],
   "source": [
    "clf = MLPClassifier(hidden_layer_sizes=(50,50,50,50,50,50,50,50,50,50), max_iter=3000, solver=r'sgd', learning_rate=r'adaptive')"
   ]
  },
  {
   "cell_type": "code",
   "execution_count": null,

   "metadata": {},
   "outputs": [
    {
     "data": {
      "text/plain": [
       "MLPClassifier(hidden_layer_sizes=(50, 50, 50, 50, 50, 50, 50, 50, 50, 50),\n",
       "              learning_rate='adaptive', max_iter=3000, solver='sgd')"
      ]
     },
     "execution_count": null,
     "metadata": {},
     "output_type": "execute_result"
    }
   ],
   "source": [
    "clf.fit(trainX, train_y)"
   ]
  },
  {
   "cell_type": "code",
   "execution_count": null,

   "metadata": {},
   "outputs": [],
   "source": [
    "test_y1 = clf.predict(testX)"
   ]
  },
  {
   "cell_type": "markdown",

   "metadata": {},
   "source": [
    "The rate of accurately predicted is"
   ]
  },
  {
   "cell_type": "code",
   "execution_count": null,

   "metadata": {
    "scrolled": true
   },
   "outputs": [
    {
     "data": {
      "text/plain": [
       "0.05087336244541485"
      ]
     },
     "execution_count": null,
     "metadata": {},
     "output_type": "execute_result"
    }
   ],
   "source": [
    "np.count_nonzero(abs(test_y1 - test_y) < 0.05)/len(test_y)"
   ]
  }
 ],
 "metadata": {
  "kernelspec": {
   "display_name": "Python 3",
   "language": "python",
   "name": "python3"
  },
  "language_info": {
   "codemirror_mode": {
    "name": "ipython",
    "version": 3
   },
   "file_extension": ".py",
   "mimetype": "text/x-python",
   "name": "python",
   "nbconvert_exporter": "python",
   "pygments_lexer": "ipython3",
   "version": "3.8.8"
  }
 },
 "nbformat": 4,
 "nbformat_minor": 5
}
