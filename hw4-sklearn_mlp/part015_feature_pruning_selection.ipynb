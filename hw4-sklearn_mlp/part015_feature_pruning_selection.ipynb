{
 "cells": [
  {
   "cell_type": "code",
   "execution_count": null,

   "metadata": {},
   "outputs": [],
   "source": [
    "import numpy as np\n",
    "import part010_splitting_the_data as sd\n",
    "from part010_splitting_the_data import Axis\n",
    "from sklearn.neural_network import MLPClassifier"
   ]
  },
  {
   "cell_type": "markdown",

   "metadata": {},
   "source": [
    "Retrieve the data from sd."
   ]
  },
  {
   "cell_type": "code",
   "execution_count": null,

   "metadata": {},
   "outputs": [],
   "source": [
    "(trainX, train_y, testX, test_y) = sd.main()"
   ]
  },
  {
   "cell_type": "markdown",

   "metadata": {},
   "source": [
    "Using the training error, we can compare featurs."
   ]
  },
  {
   "cell_type": "code",
   "execution_count": null,

   "metadata": {},
   "outputs": [],
   "source": [
    "TOLERANCE = 0.005\n",
    "\n",
    "def find_training_error(test_y, test_y1):\n",
    "    wrong = (abs(test_y - test_y1) > TOLERANCE)\n",
    "    return np.count_nonzero(wrong)/test_y.shape[0]"
   ]
  },
  {
   "cell_type": "markdown",

   "metadata": {},
   "source": [
    "We compare the features."
   ]
  },
  {
   "cell_type": "code",
   "execution_count": null,

   "metadata": {},
   "outputs": [
    {
     "name": "stdout",
     "output_type": "stream",
     "text": [
      "Feature 0 . . .\n",
      "Feature 1 . . .\n",
      "Feature 2 . . .\n",
      "Feature 3 . . .\n",
      "Feature 4 . . .\n",
      "Feature 5 . . .\n",
      "Feature 6 . . .\n",
      "Feature 7 . . .\n",
      "Feature 8 . . .\n",
      "Feature 9 . . .\n",
      "{0.9941048034934498: [0], 0.995414847161572: [1, 6, 7, 8, 9], 0.9951965065502183: [2], 0.9949781659388647: [3, 4], 0.994759825327511: [5]}\n"
     ]
    }
   ],
   "source": [
    "n_features = trainX.shape[1]\n",
    "\n",
    "clf = MLPClassifier()\n",
    "train_errors = {}\n",
    "\n",
    "for k in range(n_features):\n",
    "    after = (n_features - (k + 1))\n",
    "    select = (([False]*k) + [True] + ([False]*after))\n",
    "    clf.fit(trainX[:,select], train_y)\n",
    "    test_y1 = clf.predict(testX[:,select])\n",
    "    train_error = find_training_error(test_y, test_y1)\n",
    "    if (train_error in train_errors):\n",
    "        train_errors[train_error].append(k)\n",
    "    else:\n",
    "        train_errors[train_error] = [k]\n",
    "    print('Feature', k, '. . .')\n",
    "print(train_errors)"
   ]
  },
  {
   "cell_type": "code",
   "execution_count": null,

   "metadata": {},
   "outputs": [
    {
     "name": "stdout",
     "output_type": "stream",
     "text": [
      "{0.9941048034934498: [0], 0.994759825327511: [5], 0.9949781659388647: [3, 4], 0.9951965065502183: [2], 0.995414847161572: [1, 6, 7, 8, 9]}\n"
     ]
    }
   ],
   "source": [
    "sorted_indexes = {k: train_errors[k] for k in sorted(train_errors)}\n",
    "print(sorted_indexes)"
   ]
  },
  {
   "cell_type": "code",
   "execution_count": null,

   "metadata": {},
   "outputs": [
    {
     "name": "stdout",
     "output_type": "stream",
     "text": [
      "0.995414847161572\n"
     ]
    }
   ],
   "source": [
    "select = [True]*n_features\n",
    "for k in sorted_indexes[sorted(train_errors)[-1]]:\n",
    "    select[k] = False\n",
    "clf.fit(trainX[:, select], train_y)\n",
    "test_y1 = clf.predict(testX[:, select])\n",
    "print(find_training_error(test_y, test_y1))"
   ]
  },
  {
   "cell_type": "code",
   "execution_count": null,

   "metadata": {},
   "outputs": [],
   "source": []
  }
 ],
 "metadata": {
  "kernelspec": {
   "display_name": "Python 3",
   "language": "python",
   "name": "python3"
  },
  "language_info": {
   "codemirror_mode": {
    "name": "ipython",
    "version": 3
   },
   "file_extension": ".py",
   "mimetype": "text/x-python",
   "name": "python",
   "nbconvert_exporter": "python",
   "pygments_lexer": "ipython3",
   "version": "3.8.8"
  }
 },
 "nbformat": 4,
 "nbformat_minor": 5
}
