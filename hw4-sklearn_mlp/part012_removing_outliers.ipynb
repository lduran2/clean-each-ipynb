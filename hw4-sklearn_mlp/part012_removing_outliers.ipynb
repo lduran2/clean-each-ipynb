{
 "cells": [
  {
   "cell_type": "code",
   "execution_count": null,

   "metadata": {},
   "outputs": [],
   "source": [
    "import numpy as np\n",
    "import part010_splitting_the_data as sd\n",
    "from part010_splitting_the_data import Axis"
   ]
  },
  {
   "cell_type": "markdown",

   "metadata": {},
   "source": [
    "Retrieve the data from sd."
   ]
  },
  {
   "cell_type": "code",
   "execution_count": null,

   "metadata": {},
   "outputs": [],
   "source": [
    "(outlier_trainX, train_y, testX, test_y) = sd.main()"
   ]
  },
  {
   "cell_type": "markdown",

   "metadata": {},
   "source": [
    "To find outliers, first we need to find the mean and standard deviation of the training data."
   ]
  },
  {
   "cell_type": "code",
   "execution_count": null,

   "metadata": {},
   "outputs": [],
   "source": [
    "def findColParameters(features):\n",
    "    r'''\n",
    "     Finds the means and standard deviations of the given array.\n",
    "     @syntax (means, stdev) = findFeatureParameters(features)\n",
    "     @param unnormal_features : np.ndarray = from which to get\n",
    "         parameters\n",
    "     @return tuple of the means and the standard deviation\n",
    "     '''\n",
    "    # find the means of the features\n",
    "    means = features.mean(axis=Axis.COLS.value)\n",
    "    # find the variance Var[X] = E[X^2] - E^2[X]\n",
    "    meanXsq = (features**2).mean(axis=Axis.COLS.value) # E[X^2]\n",
    "    variance = meanXsq - means**2\n",
    "    # the standard deviation is the square root of the variance\n",
    "    stdev = np.sqrt(variance)\n",
    "    return (means, stdev)\n",
    "# def findColParameters(features)"
   ]
  },
  {
   "cell_type": "markdown",

   "metadata": {},
   "source": [
    "We may now find and remove the outliers."
   ]
  },
  {
   "cell_type": "code",
   "execution_count": null,

   "metadata": {},
   "outputs": [],
   "source": [
    "def findNotOutliers(features, means, stdev, allOnAxis = True):\n",
    "    r'''\n",
    "     Returns a vector of whether the feature rows contain outliers.\n",
    "     @param feature : np.ndarray = matrix to search\n",
    "     @param means : np.ndarray = vector of row means\n",
    "     @param stdev : np.ndarray = vector of row standard deviations\n",
    "     @param allOnAxis : bool = flag to aggregate row with `all`\n",
    "     @return a vector of whether the feature rows contain outliers\n",
    "     '''\n",
    "    # center by the mean\n",
    "    center = features - means\n",
    "    # rescale by the standard deviation giving the Z-score\n",
    "    z = (center)/stdev\n",
    "    # Z-score with magnitude > 3 reveals an outlier\n",
    "    not_outlier = (abs(z) <= 3)\n",
    "    # apply all if all on axis\n",
    "    if (allOnAxis):\n",
    "        not_outlier = np.all(not_outlier, axis=Axis.ROWS.value)\n",
    "    return not_outlier"
   ]
  },
  {
   "cell_type": "code",
   "execution_count": null,

   "metadata": {},
   "outputs": [
    {
     "name": "stdout",
     "output_type": "stream",
     "text": [
      "{'means': array([5.47672012e+02, 3.10334798e+04, 3.66883112e+00, 1.83375558e+00,\n",
      "       8.34361908e-01, 7.39856681e+03, 6.22472995e+00, 3.86359666e+00,\n",
      "       7.73835741e-02, 4.85538246e-01])}\n",
      "{'absmaxa': array([7.46632176e+04, 2.13231023e+07, 7.09305949e+01, 2.54186664e+01,\n",
      "       1.60425851e+01, 1.07416390e+07, 4.68245000e+01, 2.52164073e+01,\n",
      "       1.57149043e+00, 8.82286754e-01])}\n"
     ]
    }
   ],
   "source": [
    "def findFeatureParameters(features):\n",
    "    r'''\n",
    "     Finds the means and absolute maxima of the given feature array.\n",
    "     @syntax (means, absmaxa) = findFeatureParameters(features)\n",
    "     @param unnormal_features : np.ndarray = from which to get\n",
    "         parameters\n",
    "     @return tuple of the means and the absolute maxima\n",
    "     '''\n",
    "    # find the means and center the features\n",
    "    means = features.mean(axis=Axis.COLS.value)\n",
    "    centered = (features - means)\n",
    "    # find the column maximas of the absolute values\n",
    "    absmaxa = np.amax(np.absolute(centered), axis=Axis.COLS.value)\n",
    "    return (means, absmaxa)\n",
    "# def findFeatureParameters(features)\n",
    "\n",
    "# test the means and absolute maxima of `trainX`\n",
    "if __name__ == \"__main__\":\n",
    "    (means, absmaxa) = findFeatureParameters(outlier_trainX)\n",
    "    print({'means': means})\n",
    "    print({'absmaxa' : absmaxa})"
   ]
  },
  {
   "cell_type": "code",
   "execution_count": null,

   "metadata": {},
   "outputs": [
    {
     "name": "stdout",
     "output_type": "stream",
     "text": [
      "{'means': array([ 1.00000000e+00, -1.19944604e-18,  1.16735593e-17,  2.64985076e-17,\n",
      "        2.33387028e-16, -4.95275683e-17,  1.64279375e-18, -2.08396926e-16,\n",
      "       -4.29615490e-16, -1.27845822e-16, -8.83806355e-16])}\n",
      "{'absmaxa': array([0., 1., 1., 1., 1., 1., 1., 1., 1., 1., 1.])}\n"
     ]
    }
   ],
   "source": [
    "def normalizeFeatures(unnormal_features, means, absmaxa):\n",
    "    r'''\n",
    "     Normalizes the given features, centering to `means` and scaling to\n",
    "     `absmaxa`.\n",
    "     @param unnormal_features : np.ndarray = to normalize\n",
    "     @param means : np.ndarray = to which to center features\n",
    "     @param absmaxa : np.ndarray = by which to scale features\n",
    "     @return the given features normalized\n",
    "     '''\n",
    "    # center the data\n",
    "    centered = (unnormal_features - means)\n",
    "    # scale the data\n",
    "    scaled = (centered / absmaxa)\n",
    "    # create a column of 1 padding with as many rows\n",
    "    num_examples = scaled.shape[0]\n",
    "    one_pad = np.ones((num_examples,1))\n",
    "    # 1-pad each row\n",
    "    padded = np.concatenate((one_pad, scaled), axis=Axis.ROWS.value)\n",
    "    return padded\n",
    "# def normalizeFeatures(unnormal_features, means, absmaxa)\n",
    "\n",
    "# test `normalizeFeatures`\n",
    "if __name__ == \"__main__\":\n",
    "    normtrainX = normalizeFeatures(outlier_trainX, means, absmaxa)\n",
    "    # the means should be 1 for row 0,\n",
    "    # the means afterwards should be 0 since `normtrainX` is 0-centered\n",
    "    # the maxima should be 0 for row 1 (1 - mean = 1 - 1 = 0)\n",
    "    # the maxima afterwards should be 1 because `normtrainX` scaled to 1\n",
    "    (normmeans, normabsmaxa) = findFeatureParameters(normtrainX)\n",
    "    print({'means' : normmeans})\n",
    "    print({'absmaxa' : normabsmaxa})"
   ]
  },
  {
   "cell_type": "code",
   "execution_count": null,

   "metadata": {},
   "outputs": [
    {
     "name": "stdout",
     "output_type": "stream",
     "text": [
      "[1.16663170e+03 2.26932612e+05 4.26582507e+00 1.63344733e+00\n",
      " 1.08557225e+00 1.05016702e+05 3.53240207e+00 2.49012615e+00\n",
      " 6.19720615e-02 2.23058331e-01]\n"
     ]
    }
   ],
   "source": [
    "(means, stdev) = findColParameters(outlier_trainX)\n",
    "# find the rows with outliers\n",
    "print(stdev)\n",
    "not_outliers = findNotOutliers(outlier_trainX, means, stdev)\n",
    "# remove such rows\n",
    "dist_trainX = outlier_trainX[not_outliers]\n",
    "dist_train_y = train_y[not_outliers]"
   ]
  },
  {
   "cell_type": "code",
   "execution_count": null,

   "metadata": {},
   "outputs": [
    {
     "name": "stdout",
     "output_type": "stream",
     "text": [
      "removed 1244 outliers\n"
     ]
    }
   ],
   "source": [
    "print('removed', len(outlier_trainX) - len(dist_trainX), 'outliers')"
   ]
  },
  {
   "cell_type": "code",
   "execution_count": null,

   "metadata": {},
   "outputs": [],
   "source": [
    "# normalize the features\n",
    "(means, absmaxa) = findFeatureParameters(dist_trainX)\n",
    "normdist_trainX = normalizeFeatures(dist_trainX, means, absmaxa)\n",
    "\n",
    "def findSampleDistances(samples):\n",
    "    r'''\n",
    "     Find the distance of each sample from the origin.\n",
    "     \n",
    "     '''\n",
    "    # r = sqrt(x.x)\n",
    "    r = np.sqrt(np.sum(dist_trainX**2, axis=Axis.ROWS.value))\n",
    "    return r\n",
    "# def findSampleDistances(samples)\n",
    "\n",
    "dists = findSampleDistances(dist_trainX)\n",
    "\n",
    "# find outliers in the distances\n",
    "(means, stdev) = findColParameters(dists)\n",
    "not_outliers = findNotOutliers(dists, means, stdev, False)\n",
    "# remove these rows too\n",
    "trainX = normdist_trainX[not_outliers]\n",
    "undist_train_y = dist_train_y[not_outliers]"
   ]
  },
  {
   "cell_type": "code",
   "execution_count": null,

   "metadata": {},
   "outputs": [
    {
     "name": "stdout",
     "output_type": "stream",
     "text": [
      "removed 357 outliers\n"
     ]
    }
   ],
   "source": [
    "print('removed', len(dist_trainX) - len(trainX), 'outliers')"
   ]
  },
  {
   "cell_type": "code",
   "execution_count": null,

   "metadata": {},
   "outputs": [
    {
     "name": "stdout",
     "output_type": "stream",
     "text": [
      "removed 8.747% outliers\n"
     ]
    }
   ],
   "source": [
    "rRemoved = (len(outlier_trainX) - len(trainX))/len(outlier_trainX)\n",
    "print(f'removed {(100*rRemoved):.3f}% outliers')"
   ]
  }
 ],
 "metadata": {
  "kernelspec": {
   "display_name": "Python 3",
   "language": "python",
   "name": "python3"
  },
  "language_info": {
   "codemirror_mode": {
    "name": "ipython",
    "version": 3
   },
   "file_extension": ".py",
   "mimetype": "text/x-python",
   "name": "python",
   "nbconvert_exporter": "python",
   "pygments_lexer": "ipython3",
   "version": "3.8.8"
  }
 },
 "nbformat": 4,
 "nbformat_minor": 5
}
